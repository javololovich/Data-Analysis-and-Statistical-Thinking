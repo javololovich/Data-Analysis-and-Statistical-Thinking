{
  "nbformat": 4,
  "nbformat_minor": 0,
  "metadata": {
    "colab": {
      "provenance": []
    },
    "kernelspec": {
      "name": "python3",
      "display_name": "Python 3"
    },
    "language_info": {
      "name": "python"
    }
  },
  "cells": [
    {
      "cell_type": "code",
      "execution_count": null,
      "metadata": {
        "colab": {
          "base_uri": "https://localhost:8080/"
        },
        "id": "m4kJpy9v6X4h",
        "outputId": "4f73bc16-977e-4955-b8ec-0aca290ff5fc"
      },
      "outputs": [
        {
          "output_type": "stream",
          "name": "stderr",
          "text": [
            "/usr/local/lib/python3.11/dist-packages/ipykernel/ipkernel.py:283: DeprecationWarning: `should_run_async` will not call `transform_cell` automatically in the future. Please pass the result to `transformed_cell` argument and any exception that happen during thetransform in `preprocessing_exc_tuple` in IPython 7.17 and above.\n",
            "  and should_run_async(code)\n"
          ]
        }
      ],
      "source": [
        "import pandas as pd\n",
        "from sklearn.model_selection import train_test_split\n",
        "from sklearn.preprocessing import StandardScaler\n",
        "from sklearn.naive_bayes import GaussianNB\n",
        "import scipy.stats as stats\n",
        "from sklearn.metrics import classification_report, confusion_matrix, roc_curve, auc\n",
        "import matplotlib.pyplot as plt\n",
        "import seaborn as sns\n",
        "from mlxtend.frequent_patterns import apriori, association_rules\n"
      ]
    },
    {
      "cell_type": "code",
      "source": [
        "# Load the dataset\n",
        "file_path = 'LoanData_Raw_v1.0.csv'\n",
        "loan_data = pd.read_csv(file_path)"
      ],
      "metadata": {
        "colab": {
          "base_uri": "https://localhost:8080/"
        },
        "id": "yW1kEhlMeJjm",
        "outputId": "4a3c4dcb-c292-4561-da04-a79e53b11551"
      },
      "execution_count": null,
      "outputs": [
        {
          "output_type": "stream",
          "name": "stderr",
          "text": [
            "/usr/local/lib/python3.11/dist-packages/ipykernel/ipkernel.py:283: DeprecationWarning: `should_run_async` will not call `transform_cell` automatically in the future. Please pass the result to `transformed_cell` argument and any exception that happen during thetransform in `preprocessing_exc_tuple` in IPython 7.17 and above.\n",
            "  and should_run_async(code)\n"
          ]
        }
      ]
    },
    {
      "cell_type": "code",
      "source": [
        "# Drop duplicate rows\n",
        "loan_data = loan_data.drop_duplicates()\n",
        "\n",
        "# Drop rows with missing values\n",
        "cleaned_data = loan_data.dropna()"
      ],
      "metadata": {
        "colab": {
          "base_uri": "https://localhost:8080/"
        },
        "id": "WX9kZHR-eKKz",
        "outputId": "143fb2e3-4c79-489d-f4ab-3db71999684b"
      },
      "execution_count": null,
      "outputs": [
        {
          "output_type": "stream",
          "name": "stderr",
          "text": [
            "/usr/local/lib/python3.11/dist-packages/ipykernel/ipkernel.py:283: DeprecationWarning: `should_run_async` will not call `transform_cell` automatically in the future. Please pass the result to `transformed_cell` argument and any exception that happen during thetransform in `preprocessing_exc_tuple` in IPython 7.17 and above.\n",
            "  and should_run_async(code)\n"
          ]
        }
      ]
    },
    {
      "cell_type": "code",
      "source": [
        "# Encode the `default` column: convert '1'/'0' to 1/0\n",
        "cleaned_data.loc[:, 'default'] = cleaned_data['default'].map({'1': 1, '0': 0})\n",
        "\n",
        "# Verify unique values in the 'default' column\n",
        "print(\"Unique values in 'default' column:\", cleaned_data['default'].unique())\n",
        "\n",
        "# Filter out invalid `default` values\n",
        "cleaned_data = cleaned_data[cleaned_data['default'].isin([0, 1])]"
      ],
      "metadata": {
        "colab": {
          "base_uri": "https://localhost:8080/"
        },
        "id": "xCMhbFJdeKUt",
        "outputId": "4fdeb946-ae4a-4f2f-d431-a6df67b88b89"
      },
      "execution_count": null,
      "outputs": [
        {
          "output_type": "stream",
          "name": "stdout",
          "text": [
            "Unique values in 'default' column: [1.0 0.0 nan]\n"
          ]
        },
        {
          "output_type": "stream",
          "name": "stderr",
          "text": [
            "/usr/local/lib/python3.11/dist-packages/ipykernel/ipkernel.py:283: DeprecationWarning: `should_run_async` will not call `transform_cell` automatically in the future. Please pass the result to `transformed_cell` argument and any exception that happen during thetransform in `preprocessing_exc_tuple` in IPython 7.17 and above.\n",
            "  and should_run_async(code)\n"
          ]
        }
      ]
    },
    {
      "cell_type": "code",
      "source": [
        "\n",
        "print(\"\\n--- Hypothesis Testing ---\")\n",
        "# Split income data into defaulters and non-defaulters\n",
        "income_default = cleaned_data[cleaned_data['default'] == 1]['income']\n",
        "income_no_default = cleaned_data[cleaned_data['default'] == 0]['income']\n",
        "\n",
        "# Perform independent t-test\n",
        "t_stat, p_value = stats.ttest_ind(income_default, income_no_default, equal_var=False)\n",
        "\n",
        "print(\"\\nT-Test: Income vs. Default Status\")\n",
        "print(f\"T-Statistic: {t_stat:.4f}, P-Value: {p_value:.4f}\")\n",
        "\n",
        "if p_value < 0.05:\n",
        "    print(\"Result: Reject the null hypothesis. Income significantly differs between defaulters and non-defaulters.\")\n",
        "else:\n",
        "    print(\"Result: Fail to reject the null hypothesis. No significant difference in income.\")"
      ],
      "metadata": {
        "colab": {
          "base_uri": "https://localhost:8080/"
        },
        "id": "837WhvcykSkY",
        "outputId": "a4c22ee3-b23a-44f9-a9f5-20bd8f1dfaec"
      },
      "execution_count": null,
      "outputs": [
        {
          "output_type": "stream",
          "name": "stdout",
          "text": [
            "\n",
            "--- Hypothesis Testing ---\n",
            "\n",
            "T-Test: Income vs. Default Status\n",
            "T-Statistic: -1.5973, P-Value: 0.1115\n",
            "Result: Fail to reject the null hypothesis. No significant difference in income.\n"
          ]
        },
        {
          "output_type": "stream",
          "name": "stderr",
          "text": [
            "/usr/local/lib/python3.11/dist-packages/ipykernel/ipkernel.py:283: DeprecationWarning: `should_run_async` will not call `transform_cell` automatically in the future. Please pass the result to `transformed_cell` argument and any exception that happen during thetransform in `preprocessing_exc_tuple` in IPython 7.17 and above.\n",
            "  and should_run_async(code)\n"
          ]
        }
      ]
    },
    {
      "cell_type": "code",
      "source": [
        "\n",
        "# Create a contingency table\n",
        "edu_default_table = pd.crosstab(cleaned_data['ed'], cleaned_data['default'])\n",
        "\n",
        "# Perform chi-square test\n",
        "chi2_stat, chi2_p, dof, expected = stats.chi2_contingency(edu_default_table)\n",
        "\n",
        "print(\"\\nChi-Square Test: Education Level vs. Default Status\")\n",
        "print(f\"Chi-Square Statistic: {chi2_stat:.4f}, P-Value: {chi2_p:.4f}\")\n",
        "\n",
        "if chi2_p < 0.05:\n",
        "    print(\"Result: Reject the null hypothesis. Education level significantly affects default rates.\")\n",
        "else:\n",
        "    print(\"Result: Fail to reject the null hypothesis. No strong relationship between education level and default rates.\")"
      ],
      "metadata": {
        "colab": {
          "base_uri": "https://localhost:8080/"
        },
        "id": "i3OehGfdkSVG",
        "outputId": "54b47932-cb5e-4337-89f4-e01a31616b4c"
      },
      "execution_count": null,
      "outputs": [
        {
          "output_type": "stream",
          "name": "stdout",
          "text": [
            "\n",
            "Chi-Square Test: Education Level vs. Default Status\n",
            "Chi-Square Statistic: 7.5420, P-Value: 0.1099\n",
            "Result: Fail to reject the null hypothesis. No strong relationship between education level and default rates.\n"
          ]
        },
        {
          "output_type": "stream",
          "name": "stderr",
          "text": [
            "/usr/local/lib/python3.11/dist-packages/ipykernel/ipkernel.py:283: DeprecationWarning: `should_run_async` will not call `transform_cell` automatically in the future. Please pass the result to `transformed_cell` argument and any exception that happen during thetransform in `preprocessing_exc_tuple` in IPython 7.17 and above.\n",
            "  and should_run_async(code)\n"
          ]
        }
      ]
    },
    {
      "cell_type": "code",
      "source": [
        "# Features and target\n",
        "X = cleaned_data[['age', 'ed', 'employ', 'address', 'income', 'debtinc', 'creddebt', 'othdebt']]\n",
        "y = cleaned_data['default'].astype(int)  # Ensure target is numeric\n",
        "\n",
        "# Split into training and testing sets\n",
        "X_train, X_test, y_train, y_test = train_test_split(X, y, test_size=0.3, random_state=42, stratify=y)\n",
        "\n",
        "# Standardize the features\n",
        "scaler = StandardScaler()\n",
        "X_train_scaled = scaler.fit_transform(X_train)\n",
        "X_test_scaled = scaler.transform(X_test)\n",
        "\n",
        "# Train a Naïve Bayes Classifier\n",
        "model = GaussianNB()\n",
        "model.fit(X_train_scaled, y_train)\n",
        "\n",
        "# Predictions and evaluation\n",
        "y_pred = model.predict(X_test_scaled)\n",
        "y_prob = model.predict_proba(X_test_scaled)[:, 1]"
      ],
      "metadata": {
        "colab": {
          "base_uri": "https://localhost:8080/"
        },
        "id": "5Dgp7DwqeKdw",
        "outputId": "b3582ef7-a2b4-4add-f9f8-60d9c4d374c4"
      },
      "execution_count": null,
      "outputs": [
        {
          "output_type": "stream",
          "name": "stderr",
          "text": [
            "/usr/local/lib/python3.11/dist-packages/ipykernel/ipkernel.py:283: DeprecationWarning: `should_run_async` will not call `transform_cell` automatically in the future. Please pass the result to `transformed_cell` argument and any exception that happen during thetransform in `preprocessing_exc_tuple` in IPython 7.17 and above.\n",
            "  and should_run_async(code)\n"
          ]
        }
      ]
    },
    {
      "cell_type": "code",
      "source": [
        "# Classification report and confusion matrix\n",
        "conf_matrix = confusion_matrix(y_test, y_pred)\n",
        "class_report = classification_report(y_test, y_pred)\n",
        "\n",
        "# Plot confusion matrix\n",
        "plt.figure(figsize=(8, 6))\n",
        "sns.heatmap(conf_matrix, annot=True, fmt='d', cmap='Blues', xticklabels=['No Default', 'Default'], yticklabels=['No Default', 'Default'])\n",
        "plt.title('Confusion Matrix')\n",
        "plt.ylabel('True Label')\n",
        "plt.xlabel('Predicted Label')\n",
        "plt.show()\n"
      ],
      "metadata": {
        "colab": {
          "base_uri": "https://localhost:8080/",
          "height": 620
        },
        "id": "XjFLZ6y4eKxz",
        "outputId": "9570a736-d16d-43ea-e5b1-af480709eeeb"
      },
      "execution_count": null,
      "outputs": [
        {
          "output_type": "stream",
          "name": "stderr",
          "text": [
            "/usr/local/lib/python3.11/dist-packages/ipykernel/ipkernel.py:283: DeprecationWarning: `should_run_async` will not call `transform_cell` automatically in the future. Please pass the result to `transformed_cell` argument and any exception that happen during thetransform in `preprocessing_exc_tuple` in IPython 7.17 and above.\n",
            "  and should_run_async(code)\n"
          ]
        },
        {
          "output_type": "display_data",
          "data": {
            "text/plain": [
              "<Figure size 800x600 with 2 Axes>"
            ],
            "image/png": "[encoded data removed]"
          },
          "metadata": {}
        }
      ]
    },
    {
      "cell_type": "code",
      "source": [
        "# Display classification report\n",
        "print(\"Classification Report:\\n\", class_report)"
      ],
      "metadata": {
        "colab": {
          "base_uri": "https://localhost:8080/"
        },
        "id": "gAfHhaCgecAl",
        "outputId": "ef0eef74-34b4-4372-96ea-b91048ae8018"
      },
      "execution_count": null,
      "outputs": [
        {
          "output_type": "stream",
          "name": "stdout",
          "text": [
            "Classification Report:\n",
            "               precision    recall  f1-score   support\n",
            "\n",
            "           0       0.80      0.88      0.84       139\n",
            "           1       0.53      0.37      0.43        49\n",
            "\n",
            "    accuracy                           0.75       188\n",
            "   macro avg       0.66      0.63      0.64       188\n",
            "weighted avg       0.73      0.75      0.73       188\n",
            "\n"
          ]
        },
        {
          "output_type": "stream",
          "name": "stderr",
          "text": [
            "/usr/local/lib/python3.11/dist-packages/ipykernel/ipkernel.py:283: DeprecationWarning: `should_run_async` will not call `transform_cell` automatically in the future. Please pass the result to `transformed_cell` argument and any exception that happen during thetransform in `preprocessing_exc_tuple` in IPython 7.17 and above.\n",
            "  and should_run_async(code)\n"
          ]
        }
      ]
    },
    {
      "cell_type": "code",
      "source": [
        "# ROC Curve\n",
        "fpr, tpr, _ = roc_curve(y_test, y_prob)\n",
        "roc_auc = auc(fpr, tpr)\n",
        "\n",
        "plt.figure(figsize=(8, 6))\n",
        "plt.plot(fpr, tpr, color='blue', lw=2, label=f'ROC curve (area = {roc_auc:.2f})')\n",
        "plt.plot([0, 1], [0, 1], color='gray', lw=2, linestyle='--')\n",
        "plt.xlabel('False Positive Rate')\n",
        "plt.ylabel('True Positive Rate')\n",
        "plt.title('Receiver Operating Characteristic (ROC) Curve')\n",
        "plt.legend(loc=\"lower right\")\n",
        "plt.show()"
      ],
      "metadata": {
        "colab": {
          "base_uri": "https://localhost:8080/",
          "height": 620
        },
        "id": "UVU9k9PHecIh",
        "outputId": "e0453fe3-52fc-48ae-b538-35e29f6d0953"
      },
      "execution_count": null,
      "outputs": [
        {
          "output_type": "stream",
          "name": "stderr",
          "text": [
            "/usr/local/lib/python3.11/dist-packages/ipykernel/ipkernel.py:283: DeprecationWarning: `should_run_async` will not call `transform_cell` automatically in the future. Please pass the result to `transformed_cell` argument and any exception that happen during thetransform in `preprocessing_exc_tuple` in IPython 7.17 and above.\n",
            "  and should_run_async(code)\n"
          ]
        },
        {
          "output_type": "display_data",
          "data": {
            "text/plain": [
              "<Figure size 800x600 with 1 Axes>"
            ],
            "image/png": "[encoded data removed]"
          },
          "metadata": {}
        }
      ]
    },
    {
      "cell_type": "code",
      "source": [
        "# Save the processed data to a new file\n",
        "processed_file_path = 'Processed_LoanData.csv'\n",
        "cleaned_data.to_csv(processed_file_path, index=False)\n",
        "\n",
        "print(f\"Processed data saved to {processed_file_path}\")"
      ],
      "metadata": {
        "colab": {
          "base_uri": "https://localhost:8080/"
        },
        "id": "6rzsVY4secOc",
        "outputId": "b1d82517-a633-49eb-8096-e8413b4ab276"
      },
      "execution_count": null,
      "outputs": [
        {
          "output_type": "stream",
          "name": "stdout",
          "text": [
            "Processed data saved to Processed_LoanData.csv\n"
          ]
        },
        {
          "output_type": "stream",
          "name": "stderr",
          "text": [
            "/usr/local/lib/python3.11/dist-packages/ipykernel/ipkernel.py:283: DeprecationWarning: `should_run_async` will not call `transform_cell` automatically in the future. Please pass the result to `transformed_cell` argument and any exception that happen during thetransform in `preprocessing_exc_tuple` in IPython 7.17 and above.\n",
            "  and should_run_async(code)\n"
          ]
        }
      ]
    },
    {
      "cell_type": "code",
      "source": [
        "\n",
        "# Example: Create binary columns based on certain thresholds\n",
        "binary_data = cleaned_data.copy()\n",
        "binary_data['high_income'] = (binary_data['income'] > binary_data['income'].median()).astype(int)\n",
        "binary_data['high_debtinc'] = (binary_data['debtinc'] > binary_data['debtinc'].median()).astype(int)\n",
        "binary_data['high_creddebt'] = (binary_data['creddebt'] > binary_data['creddebt'].median()).astype(int)"
      ],
      "metadata": {
        "colab": {
          "base_uri": "https://localhost:8080/"
        },
        "id": "FBiSm1bCeptE",
        "outputId": "52ecf5f1-e6e1-4dcc-e4d9-29c5b1f1b472"
      },
      "execution_count": null,
      "outputs": [
        {
          "output_type": "stream",
          "name": "stderr",
          "text": [
            "/usr/local/lib/python3.11/dist-packages/ipykernel/ipkernel.py:283: DeprecationWarning: `should_run_async` will not call `transform_cell` automatically in the future. Please pass the result to `transformed_cell` argument and any exception that happen during thetransform in `preprocessing_exc_tuple` in IPython 7.17 and above.\n",
            "  and should_run_async(code)\n"
          ]
        }
      ]
    },
    {
      "cell_type": "code",
      "source": [
        "# Apply the Apriori algorithm to find frequent itemsets with a minimum support threshold of 0.1\n",
        "frequent_itemsets = apriori(binary_data[['high_income', 'high_debtinc', 'high_creddebt']], min_support=0.1, use_colnames=True)"
      ],
      "metadata": {
        "colab": {
          "base_uri": "https://localhost:8080/"
        },
        "id": "CUE9MgnOepxj",
        "outputId": "e9bb73ae-3fde-4a0c-d0d9-308d16d0d593"
      },
      "execution_count": null,
      "outputs": [
        {
          "output_type": "stream",
          "name": "stderr",
          "text": [
            "/usr/local/lib/python3.11/dist-packages/ipykernel/ipkernel.py:283: DeprecationWarning: `should_run_async` will not call `transform_cell` automatically in the future. Please pass the result to `transformed_cell` argument and any exception that happen during thetransform in `preprocessing_exc_tuple` in IPython 7.17 and above.\n",
            "  and should_run_async(code)\n",
            "/usr/local/lib/python3.11/dist-packages/mlxtend/frequent_patterns/fpcommon.py:161: DeprecationWarning: DataFrames with non-bool types result in worse computationalperformance and their support might be discontinued in the future.Please use a DataFrame with bool type\n",
            "  warnings.warn(\n"
          ]
        }
      ]
    },
    {
      "cell_type": "code",
      "source": [
        "# Generate association rules with a minimum confidence threshold of 0.7\n",
        "association_rules_df = association_rules(frequent_itemsets, num_itemsets=2 ,metric=\"confidence\", min_threshold=0.7)"
      ],
      "metadata": {
        "colab": {
          "base_uri": "https://localhost:8080/"
        },
        "id": "9wYT6dKsep0G",
        "outputId": "edfd9e47-757b-4720-ad30-eff79bb0cfc3"
      },
      "execution_count": null,
      "outputs": [
        {
          "output_type": "stream",
          "name": "stderr",
          "text": [
            "/usr/local/lib/python3.11/dist-packages/ipykernel/ipkernel.py:283: DeprecationWarning: `should_run_async` will not call `transform_cell` automatically in the future. Please pass the result to `transformed_cell` argument and any exception that happen during thetransform in `preprocessing_exc_tuple` in IPython 7.17 and above.\n",
            "  and should_run_async(code)\n"
          ]
        }
      ]
    },
    {
      "cell_type": "code",
      "source": [
        "# Display the frequent itemsets and association rules\n",
        "print(\"\\nFrequent Itemsets:\")\n",
        "print(frequent_itemsets)\n",
        "\n",
        "print(\"\\nAssociation Rules:\")\n",
        "print(association_rules_df)"
      ],
      "metadata": {
        "colab": {
          "base_uri": "https://localhost:8080/"
        },
        "id": "VcTi1541ep4o",
        "outputId": "62906b00-9a2f-4a13-d1e8-bd23409617b7"
      },
      "execution_count": null,
      "outputs": [
        {
          "output_type": "stream",
          "name": "stdout",
          "text": [
            "\n",
            "Frequent Itemsets:\n",
            "    support                                    itemsets\n",
            "0  0.490385                               (high_income)\n",
            "1  0.500000                              (high_debtinc)\n",
            "2  0.500000                             (high_creddebt)\n",
            "3  0.238782                 (high_income, high_debtinc)\n",
            "4  0.326923                (high_income, high_creddebt)\n",
            "5  0.366987               (high_creddebt, high_debtinc)\n",
            "6  0.211538  (high_income, high_creddebt, high_debtinc)\n",
            "\n",
            "Association Rules:\n",
            "                   antecedents      consequents  antecedent support  \\\n",
            "0              (high_creddebt)   (high_debtinc)            0.500000   \n",
            "1               (high_debtinc)  (high_creddebt)            0.500000   \n",
            "2  (high_income, high_debtinc)  (high_creddebt)            0.238782   \n",
            "\n",
            "   consequent support   support  confidence      lift  representativity  \\\n",
            "0                 0.5  0.366987    0.733974  1.467949               1.0   \n",
            "1                 0.5  0.366987    0.733974  1.467949               1.0   \n",
            "2                 0.5  0.211538    0.885906  1.771812               1.0   \n",
            "\n",
            "   leverage  conviction  zhangs_metric   jaccard  certainty  kulczynski  \n",
            "0  0.116987    1.879518       0.637555  0.579747   0.467949    0.733974  \n",
            "1  0.116987    1.879518       0.637555  0.579747   0.467949    0.733974  \n",
            "2  0.092147    4.382353       0.572249  0.401216   0.771812    0.654491  \n"
          ]
        },
        {
          "output_type": "stream",
          "name": "stderr",
          "text": [
            "/usr/local/lib/python3.11/dist-packages/ipykernel/ipkernel.py:283: DeprecationWarning: `should_run_async` will not call `transform_cell` automatically in the future. Please pass the result to `transformed_cell` argument and any exception that happen during thetransform in `preprocessing_exc_tuple` in IPython 7.17 and above.\n",
            "  and should_run_async(code)\n"
          ]
        }
      ]
    }
  ]
}